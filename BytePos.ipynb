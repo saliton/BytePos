{
  "nbformat": 4,
  "nbformat_minor": 0,
  "metadata": {
    "colab": {
      "name": "BytePos.ipynb",
      "provenance": [],
      "collapsed_sections": []
    },
    "kernelspec": {
      "name": "python3",
      "display_name": "Python 3"
    },
    "language_info": {
      "name": "python"
    }
  },
  "cells": [
    {
      "cell_type": "markdown",
      "metadata": {
        "id": "QC2vtbMW6f2_"
      },
      "source": [
        "# UTF-8じゃないの？Pythonの文字列処理で火傷を防ぐ"
      ]
    },
    {
      "cell_type": "markdown",
      "metadata": {
        "id": "a9ay-gQ16uxw"
      },
      "source": [
        "皆さんはPythonでUTF8の文字列のバイト位置を知りたいと思ったことありませんか。私はあります。DBから取得したデータがUTF8でそれを変換せずに直接処理したいことがあったからです。\n",
        "\n",
        "UTF-8を直接処理？Pythonの文字列型はUTF-8じゃないの？と思った方は、[こちらの記事](https://www.haya-programming.com/entry/2020/04/24/035151?amp=1)を見てください。"
      ]
    },
    {
      "cell_type": "markdown",
      "metadata": {
        "id": "TV06m9LE-04_"
      },
      "source": [
        "例えば、Pythonの正規表現モジュールは、以下の様に検索語と被検索対象を共にバイト列を指定すればUTF8のまま処理が可能です。"
      ]
    },
    {
      "cell_type": "code",
      "metadata": {
        "colab": {
          "base_uri": "https://localhost:8080/",
          "height": 35
        },
        "id": "49TY-mkK9-Xo",
        "outputId": "291a610b-7b74-41af-f19b-62b2365dcfc1"
      },
      "source": [
        "import re\n",
        "key = '第\\d+回'.encode('UTF8')\n",
        "target = '本日は第3回全国大会にお集まりいただき、ありがとうございます。'.encode('UTF8')\n",
        "m = re.search(key, target)\n",
        "m.group().decode('UTF8')"
      ],
      "execution_count": null,
      "outputs": [
        {
          "output_type": "execute_result",
          "data": {
            "application/vnd.google.colaboratory.intrinsic+json": {
              "type": "string"
            },
            "text/plain": [
              "'第3回'"
            ]
          },
          "metadata": {},
          "execution_count": 6
        }
      ]
    },
    {
      "cell_type": "markdown",
      "metadata": {
        "id": "t2iO7Ylh_5re"
      },
      "source": [
        "しかし、文字列をUTF8で表した場合の各文字のバイト位置が必要な時、どうすればいいでしょうか。"
      ]
    },
    {
      "cell_type": "code",
      "metadata": {
        "id": "ndAc7vz23kiv"
      },
      "source": [
        "s = \"今日の日付は10月10日です。\""
      ],
      "execution_count": null,
      "outputs": []
    },
    {
      "cell_type": "markdown",
      "metadata": {
        "id": "xVg86suqBiRR"
      },
      "source": [
        "ナイーブな実装をすれば以下の様になるでしょうか。"
      ]
    },
    {
      "cell_type": "code",
      "metadata": {
        "colab": {
          "base_uri": "https://localhost:8080/"
        },
        "id": "hSwMdl7IHM2K",
        "outputId": "4e33bbcb-44d8-4360-8926-95e411996607"
      },
      "source": [
        "result = [0]\n",
        "for c in s[:-1]:\n",
        "    result.append(result[-1] + len(c.encode('UTF8')))\n",
        "for c, pos in zip(s, result):\n",
        "    print(c, pos, sep='\\t')"
      ],
      "execution_count": null,
      "outputs": [
        {
          "output_type": "stream",
          "name": "stdout",
          "text": [
            "今\t0\n",
            "日\t3\n",
            "の\t6\n",
            "日\t9\n",
            "付\t12\n",
            "は\t15\n",
            "1\t18\n",
            "0\t19\n",
            "月\t20\n",
            "1\t23\n",
            "0\t24\n",
            "日\t25\n",
            "で\t28\n",
            "す\t31\n",
            "。\t34\n"
          ]
        }
      ]
    },
    {
      "cell_type": "markdown",
      "metadata": {
        "id": "9dzjYTIDBrUQ"
      },
      "source": [
        "しかし、for文で回すのは格好が悪い。処理時間も短くしたい。\n",
        "\n",
        "まずは文字列を増やします。"
      ]
    },
    {
      "cell_type": "code",
      "metadata": {
        "id": "JkJ28_8BHl0M"
      },
      "source": [
        "s1k = \"今日の日付は10月10日です。\" * 1000"
      ],
      "execution_count": null,
      "outputs": []
    },
    {
      "cell_type": "markdown",
      "metadata": {
        "id": "TG-JTa8iCKOJ"
      },
      "source": [
        "それでは処理時間を測ってみましょう。"
      ]
    },
    {
      "cell_type": "code",
      "metadata": {
        "colab": {
          "base_uri": "https://localhost:8080/"
        },
        "id": "osTKtIT_TlTY",
        "outputId": "51b174c0-2582-4d92-a8f8-6775bdf26875"
      },
      "source": [
        "%%timeit\n",
        "result = [0]\n",
        "for c in s1k[:-1]:\n",
        "    result.append(result[-1] + len(c.encode('UTF8')))"
      ],
      "execution_count": null,
      "outputs": [
        {
          "output_type": "stream",
          "name": "stdout",
          "text": [
            "100 loops, best of 5: 5.59 ms per loop\n"
          ]
        }
      ]
    },
    {
      "cell_type": "markdown",
      "metadata": {
        "id": "OWb-8ouiHVYd"
      },
      "source": [
        "いや待ってください。嫌な予感がします。encode('UTF8')で文字列の引数を渡しているところです。encode()はデフォルトでUTF8なので、省いてみます。"
      ]
    },
    {
      "cell_type": "code",
      "metadata": {
        "colab": {
          "base_uri": "https://localhost:8080/"
        },
        "id": "vsFefC9jHKjJ",
        "outputId": "2429012d-109a-47da-dad8-bc70ebce3333"
      },
      "source": [
        "%%timeit\n",
        "result = [0]\n",
        "for c in s1k[:-1]:\n",
        "    result.append(result[-1] + len(c.encode()))"
      ],
      "execution_count": null,
      "outputs": [
        {
          "output_type": "stream",
          "name": "stdout",
          "text": [
            "100 loops, best of 5: 4.68 ms per loop\n"
          ]
        }
      ]
    },
    {
      "cell_type": "markdown",
      "metadata": {
        "id": "LhWUO1p8HvIh"
      },
      "source": [
        "なんと2割も処理時間が削減されました。文字列引数、恐るべし。指定してもしなくても同じだと思ったら大間違い。"
      ]
    },
    {
      "cell_type": "markdown",
      "metadata": {
        "id": "_4Qj5vy9CUPN"
      },
      "source": [
        "次に内包表記で一行で書いたものを計測。もちろんもうencode()の引数は使いません。"
      ]
    },
    {
      "cell_type": "code",
      "metadata": {
        "colab": {
          "base_uri": "https://localhost:8080/"
        },
        "id": "tB8tY0-Z4huf",
        "outputId": "4613c952-20ac-4564-b4dc-d0b368ad77bd"
      },
      "source": [
        "%%timeit\n",
        "result = [len(s1k[:i].encode()) for i in range(len(s))]"
      ],
      "execution_count": null,
      "outputs": [
        {
          "output_type": "stream",
          "name": "stdout",
          "text": [
            "1 loop, best of 5: 283 ms per loop\n"
          ]
        }
      ]
    },
    {
      "cell_type": "markdown",
      "metadata": {
        "id": "qWybOriqCb6I"
      },
      "source": [
        "シンプルに一行になりましたが、処理時間が全然だめです。そもそもアルゴリズムがだめです。これではオーダーがO(n^2)になってしまいます。どんどん長くなる文字列のi番目までの文字列s[:i]を毎度encode()しているからです。"
      ]
    },
    {
      "cell_type": "markdown",
      "metadata": {
        "id": "H96F3V88EBtT"
      },
      "source": [
        "単に1文字ずつのUTF8のバイト長を得るだけならそんな時間はかかりません。"
      ]
    },
    {
      "cell_type": "code",
      "metadata": {
        "colab": {
          "base_uri": "https://localhost:8080/"
        },
        "id": "wCOn6UeGEQxB",
        "outputId": "fa50ec76-7bff-4799-85ce-1a7896f14239"
      },
      "source": [
        "%%timeit\n",
        "result = [len(c.encode()) for c in s1k]"
      ],
      "execution_count": null,
      "outputs": [
        {
          "output_type": "stream",
          "name": "stdout",
          "text": [
            "100 loops, best of 5: 2.78 ms per loop\n"
          ]
        }
      ]
    },
    {
      "cell_type": "markdown",
      "metadata": {
        "id": "rQJP7NZlGSKI"
      },
      "source": [
        "このリストの内容を累積すれば目的は達成できそうです。そして、リストの各要素を累積するaccumulate()という関数がitertoolsモジュールの中にありました。"
      ]
    },
    {
      "cell_type": "code",
      "metadata": {
        "id": "LPU1lCBW51RB"
      },
      "source": [
        "from itertools import accumulate"
      ],
      "execution_count": null,
      "outputs": []
    },
    {
      "cell_type": "markdown",
      "metadata": {
        "id": "DCqIsBQWGg0E"
      },
      "source": [
        "これを使って計測してみましょう。"
      ]
    },
    {
      "cell_type": "code",
      "metadata": {
        "colab": {
          "base_uri": "https://localhost:8080/"
        },
        "id": "FpjkergI53OA",
        "outputId": "40ec5fc2-d929-443b-cb8b-45477cf6c967"
      },
      "source": [
        "%%timeit\n",
        "result = [0] + list(accumulate([len(c.encode()) for c in s1k[:-1]]))"
      ],
      "execution_count": null,
      "outputs": [
        {
          "output_type": "stream",
          "name": "stdout",
          "text": [
            "100 loops, best of 5: 3.47 ms per loop\n"
          ]
        }
      ]
    },
    {
      "cell_type": "markdown",
      "metadata": {
        "id": "wSE_l1hXI29b"
      },
      "source": [
        "さらに2割ほど処理時間が削減された上、一行で綺麗に書けました。めでたしめでたし。\n",
        "\n",
        "本当にそうでしょうか。実際に実行された方でキャッシュ使われてるんじゃ？という警告文を目にした方、いらっしゃいませんか。%%timeitは100回実行してベスト5の平均をとりますが、どうもaccumulate()の引数に渡しているリストがキャッシュされて、初回以外の計測値が意図しないものになっている可能性がありそうです。"
      ]
    },
    {
      "cell_type": "markdown",
      "metadata": {
        "id": "3nja1p7YgZV9"
      },
      "source": [
        "他の方法でも計測してみましょう。"
      ]
    },
    {
      "cell_type": "code",
      "metadata": {
        "colab": {
          "base_uri": "https://localhost:8080/"
        },
        "id": "liNe55aTZklY",
        "outputId": "55f5c295-07e0-4fe0-8ace-d821f4ea02ef"
      },
      "source": [
        "from itertools import accumulate\n",
        "from timeit import timeit\n",
        "timeit(\"result = [0] + list(accumulate([len(c.encode()) for c in s1k[:-1]]))\", globals = globals(), number=100) / 100"
      ],
      "execution_count": null,
      "outputs": [
        {
          "output_type": "execute_result",
          "data": {
            "text/plain": [
              "0.0037341063500002745"
            ]
          },
          "metadata": {},
          "execution_count": 17
        }
      ]
    },
    {
      "cell_type": "markdown",
      "metadata": {
        "id": "BFNsirp4gdTE"
      },
      "source": [
        "これもキャッシュ疑惑が拭えません。\n",
        "\n",
        "繰り返さずに一回だけの処理速度を測ってみましょう。処理時間が短いと誤差が大きくなるので、文字列の長さをさらに10000倍にして測定します。\n",
        "\n",
        "まずはナイーブな実装。"
      ]
    },
    {
      "cell_type": "code",
      "metadata": {
        "colab": {
          "base_uri": "https://localhost:8080/"
        },
        "id": "kqzuoUukJM58",
        "outputId": "bb037705-5fca-40de-dc49-886e9a273b8e"
      },
      "source": [
        "s10m = \"今日の日付は10月10日です。\" * 1000 * 10000\n",
        "result = [0]\n",
        "%time for c in s10m[:-1]: result.append(result[-1] + len(c.encode()))"
      ],
      "execution_count": null,
      "outputs": [
        {
          "output_type": "stream",
          "name": "stdout",
          "text": [
            "CPU times: user 1min, sys: 2.55 s, total: 1min 3s\n",
            "Wall time: 1min 3s\n"
          ]
        }
      ]
    },
    {
      "cell_type": "markdown",
      "metadata": {
        "id": "LTEO2skfO3yi"
      },
      "source": [
        "次はaccumulate()を使った実装。"
      ]
    },
    {
      "cell_type": "code",
      "metadata": {
        "colab": {
          "base_uri": "https://localhost:8080/"
        },
        "id": "VeZjjEY2cm1F",
        "outputId": "4c444f53-136a-4e23-f606-495ce6e739a0"
      },
      "source": [
        "from itertools import accumulate\n",
        "s10m = \"今日の日付は10月10日です。\" * 1000 * 10000\n",
        "%time result = [0] + list(accumulate([len(c.encode()) for c in s10m[:-1]]))"
      ],
      "execution_count": null,
      "outputs": [
        {
          "output_type": "stream",
          "name": "stdout",
          "text": [
            "CPU times: user 38 s, sys: 4.9 s, total: 42.9 s\n",
            "Wall time: 42.9 s\n"
          ]
        }
      ]
    },
    {
      "cell_type": "markdown",
      "metadata": {
        "id": "bt_iZePQihYV"
      },
      "source": [
        "3割ほど処理時間が短い！\n",
        "\n",
        "でもリストを２回も作成しているのが気になる。accumulate()はジェネレーターを返すということなので、expand()に渡してみましょう。"
      ]
    },
    {
      "cell_type": "code",
      "metadata": {
        "colab": {
          "base_uri": "https://localhost:8080/"
        },
        "id": "ItQS4xO9ETqg",
        "outputId": "ab58413e-83a9-4d0c-dee6-6491bd3767a4"
      },
      "source": [
        "from itertools import accumulate\n",
        "s10m = \"今日の日付は10月10日です。\" * 1000 * 10000\n",
        "result = [0]\n",
        "%time result.extend(accumulate([len(c.encode()) for c in s10m[:-1]]))"
      ],
      "execution_count": null,
      "outputs": [
        {
          "output_type": "stream",
          "name": "stdout",
          "text": [
            "CPU times: user 36.1 s, sys: 2.46 s, total: 38.5 s\n",
            "Wall time: 38.6 s\n"
          ]
        }
      ]
    },
    {
      "cell_type": "markdown",
      "metadata": {
        "id": "ABGkFgDUTBGW"
      },
      "source": [
        "おお！本日最速！\n",
        "\n",
        "ただ、一行で書けてないのが残念。extend()が結果の配列を返してくれる仕様だったら良かったのに。\n",
        "\n",
        "ちなみに、accumulate()の引数はこうも書けます。"
      ]
    },
    {
      "cell_type": "code",
      "metadata": {
        "colab": {
          "base_uri": "https://localhost:8080/"
        },
        "id": "JMQBnGszP0xv",
        "outputId": "68cc3590-7be2-4c5c-d6d3-14aac924d00e"
      },
      "source": [
        "from itertools import accumulate\n",
        "s10m = \"今日の日付は10月10日です。\" * 1000 * 10000\n",
        "result = [0]\n",
        "%time result.extend(accumulate(len(c.encode()) for c in s10m[:-1]))"
      ],
      "execution_count": null,
      "outputs": [
        {
          "output_type": "stream",
          "name": "stdout",
          "text": [
            "CPU times: user 37.7 s, sys: 2.15 s, total: 39.8 s\n",
            "Wall time: 39.9 s\n"
          ]
        }
      ]
    },
    {
      "cell_type": "markdown",
      "metadata": {
        "id": "-zYo0kH5Tl0L"
      },
      "source": [
        "あれ？全く同じだと思ったらちょっと遅い。この書き方だとリストじゃなくてジェネレータが渡るのかな？\n",
        "\n",
        "確認のため、明示的にジェネレータを渡してみましょう。"
      ]
    },
    {
      "cell_type": "code",
      "metadata": {
        "colab": {
          "base_uri": "https://localhost:8080/"
        },
        "id": "qhNFrqwwSBDs",
        "outputId": "4b26a18a-90d2-4772-f4c1-720b47aa7c6f"
      },
      "source": [
        "from itertools import accumulate\n",
        "s10m = \"今日の日付は10月10日です。\" * 1000 * 10000\n",
        "result = [0]\n",
        "%time result.extend(accumulate((len(c.encode()) for c in s10m[:-1])))"
      ],
      "execution_count": null,
      "outputs": [
        {
          "output_type": "stream",
          "name": "stdout",
          "text": [
            "CPU times: user 37.8 s, sys: 2.14 s, total: 39.9 s\n",
            "Wall time: 39.9 s\n"
          ]
        }
      ]
    },
    {
      "cell_type": "markdown",
      "metadata": {
        "id": "iREQoWa8T-SX"
      },
      "source": [
        "同じだ。やはりこの書き方ではジェネレータが渡されるようです。そしてこの場合はリスト渡しのほうが速いと。試してみないと分からないものですね。\n",
        "\n",
        "現場からは以上です。"
      ]
    }
  ]
}